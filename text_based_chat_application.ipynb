{
  "cells": [
    {
      "cell_type": "markdown",
      "metadata": {
        "id": "view-in-github",
        "colab_type": "text"
      },
      "source": [
        "<a href=\"https://colab.research.google.com/github/Pranjal1092/OASIS/blob/main/text_based_chat_application.ipynb\" target=\"_parent\"><img src=\"https://colab.research.google.com/assets/colab-badge.svg\" alt=\"Open In Colab\"/></a>"
      ]
    },
    {
      "cell_type": "markdown",
      "metadata": {
        "id": "HemSJEC-VXr0"
      },
      "source": [
        "Server Code"
      ]
    },
    {
      "cell_type": "code",
      "execution_count": null,
      "metadata": {
        "colab": {
          "background_save": true,
          "base_uri": "https://localhost:8080/"
        },
        "id": "3L_DJtyzRDHK",
        "outputId": "afaacdc6-be65-444c-d390-fdee218b078d"
      },
      "outputs": [
        {
          "name": "stdout",
          "output_type": "stream",
          "text": [
            "Server started on port 12345\n"
          ]
        }
      ],
      "source": [
        "import socket\n",
        "import threading\n",
        "\n",
        "# Function to handle client connection\n",
        "def handle_client(client_socket, client_address, clients):\n",
        "    print(f\"New connection: {client_address}\")\n",
        "    while True:\n",
        "        try:\n",
        "            message = client_socket.recv(1024).decode('utf-8')\n",
        "            if message:\n",
        "                print(f\"{client_address}: {message}\")\n",
        "                broadcast(message, client_socket, clients)\n",
        "            else:\n",
        "                remove_client(client_socket, clients)\n",
        "                break\n",
        "        except:\n",
        "            continue\n",
        "\n",
        "# Function to broadcast a message to all clients\n",
        "def broadcast(message, sender_socket, clients):\n",
        "    for client in clients:\n",
        "        if client != sender_socket:\n",
        "            try:\n",
        "                client.send(message.encode('utf-8'))\n",
        "            except:\n",
        "                remove_client(client, clients)\n",
        "\n",
        "# Function to remove a client from the list\n",
        "def remove_client(client_socket, clients):\n",
        "    if client_socket in clients:\n",
        "        clients.remove(client_socket)\n",
        "        client_socket.close()\n",
        "\n",
        "def main():\n",
        "    server_socket = socket.socket(socket.AF_INET, socket.SOCK_STREAM)\n",
        "    server_socket.bind(('0.0.0.0', 12345))\n",
        "    server_socket.listen(5)\n",
        "    print(\"Server started on port 12345\")\n",
        "\n",
        "    clients = []\n",
        "\n",
        "    while True:\n",
        "        client_socket, client_address = server_socket.accept()\n",
        "        clients.append(client_socket)\n",
        "        client_thread = threading.Thread(target=handle_client, args=(client_socket, client_address, clients))\n",
        "        client_thread.start()\n",
        "\n",
        "if __name__ == \"__main__\":\n",
        "    main()\n"
      ]
    },
    {
      "cell_type": "markdown",
      "metadata": {
        "id": "-i3efOfjVTit"
      },
      "source": [
        "Client Code"
      ]
    },
    {
      "cell_type": "code",
      "execution_count": null,
      "metadata": {
        "id": "cBcvwsjvVPU_"
      },
      "outputs": [],
      "source": [
        "import socket\n",
        "import threading\n",
        "\n",
        "# Function to handle receiving messages from the server\n",
        "def receive_messages(client_socket):\n",
        "    while True:\n",
        "        try:\n",
        "            message = client_socket.recv(1024).decode('utf-8')\n",
        "            if message:\n",
        "                print(message)\n",
        "        except:\n",
        "            print(\"An error occurred!\")\n",
        "            client_socket.close()\n",
        "            break\n",
        "\n",
        "def main():\n",
        "    client_socket = socket.socket(socket.AF_INET, socket.SOCK_STREAM)\n",
        "    server_address = input(\"Enter server IP address: \")\n",
        "    client_socket.connect((server_address, 12345))\n",
        "\n",
        "    receive_thread = threading.Thread(target=receive_messages, args=(client_socket,))\n",
        "    receive_thread.start()\n",
        "\n",
        "    while True:\n",
        "        message = input()\n",
        "        if message.lower() == 'exit':\n",
        "            client_socket.close()\n",
        "            break\n",
        "        client_socket.send(message.encode('utf-8'))\n",
        "\n",
        "if __name__ == \"__main__\":\n",
        "    main()\n"
      ]
    },
    {
      "cell_type": "code",
      "execution_count": null,
      "metadata": {
        "id": "SVMezLNHVSbv"
      },
      "outputs": [],
      "source": []
    }
  ],
  "metadata": {
    "colab": {
      "provenance": [],
      "include_colab_link": true
    },
    "kernelspec": {
      "display_name": "Python 3",
      "name": "python3"
    },
    "language_info": {
      "name": "python"
    }
  },
  "nbformat": 4,
  "nbformat_minor": 0
}